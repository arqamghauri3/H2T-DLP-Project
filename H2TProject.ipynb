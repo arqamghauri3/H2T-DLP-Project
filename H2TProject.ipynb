{
  "cells": [
    {
      "cell_type": "code",
      "execution_count": null,
      "metadata": {
        "colab": {
          "base_uri": "https://localhost:8080/"
        },
        "id": "sBKTKUhYDOZS",
        "outputId": "be2f11a3-a767-4b7d-8b70-f153fe2c7cd7"
      },
      "outputs": [
        {
          "name": "stdout",
          "output_type": "stream",
          "text": [
            "/content/drive/MyDrive/H2TProject\n"
          ]
        }
      ],
      "source": [
        "cd drive/MyDrive/H2TProject/"
      ]
    },
    {
      "cell_type": "code",
      "execution_count": null,
      "metadata": {
        "colab": {
          "base_uri": "https://localhost:8080/"
        },
        "id": "Wip4q3CulLyT",
        "outputId": "211be3f9-8607-4356-aa3b-4fa817a409ef"
      },
      "outputs": [
        {
          "name": "stdout",
          "output_type": "stream",
          "text": [
            "Mounted at /content/drive\n"
          ]
        }
      ],
      "source": [
        "from google.colab import drive\n",
        "drive.mount('/content/drive')"
      ]
    },
    {
      "cell_type": "code",
      "execution_count": null,
      "metadata": {
        "id": "2SoYDQRiSQ4e"
      },
      "outputs": [],
      "source": [
        "import numpy as np\n",
        "import cv2\n",
        "import os\n",
        "import pandas as pd\n",
        "import string\n",
        "import matplotlib.pyplot as plt\n",
        "\n",
        "from keras.preprocessing.sequence import pad_sequences\n",
        "\n",
        "from keras.layers import Dense, LSTM, Reshape, BatchNormalization, Input, Conv2D, MaxPool2D, Lambda, Bidirectional\n",
        "from keras.models import Model\n",
        "from keras.activations import relu, sigmoid, softmax\n",
        "import keras.backend as K\n",
        "\n",
        "from keras.utils import to_categorical\n",
        "from keras.callbacks import ModelCheckpoint\n",
        "\n",
        "\n",
        "from sklearn.model_selection import train_test_split\n",
        "from sklearn.preprocessing import MinMaxScaler\n",
        "\n",
        "from PIL import Image\n",
        "\n",
        "import tensorflow as tf"
      ]
    },
    {
      "cell_type": "code",
      "execution_count": null,
      "metadata": {
        "id": "noNc-pcKcFDn"
      },
      "outputs": [],
      "source": [
        "images = []\n",
        "labels = []\n",
        "\n",
        "RECORDS_COUNT = 30000"
      ]
    },
    {
      "cell_type": "code",
      "execution_count": null,
      "metadata": {
        "id": "XwClEU6fcI2a"
      },
      "outputs": [],
      "source": [
        "train_images = []\n",
        "train_labels = []\n",
        "train_input_length = []\n",
        "train_label_length = []\n",
        "train_original_text = []\n",
        "\n",
        "valid_images = []\n",
        "valid_labels = []\n",
        "valid_input_length = []\n",
        "valid_label_length = []\n",
        "valid_original_text = []\n",
        "\n",
        "inputs_length = []\n",
        "labels_length = []"
      ]
    },
    {
      "cell_type": "code",
      "execution_count": null,
      "metadata": {
        "colab": {
          "base_uri": "https://localhost:8080/",
          "height": 35
        },
        "id": "Wsb27kIacdHY",
        "outputId": "e4ef7d0b-4bc5-407a-b610-9940e1ca888f"
      },
      "outputs": [
        {
          "data": {
            "application/vnd.google.colaboratory.intrinsic+json": {
              "type": "string"
            },
            "text/plain": [
              "'b06-110-07-03 ok 173 987 2031 8 6 . .'"
            ]
          },
          "execution_count": 9,
          "metadata": {},
          "output_type": "execute_result"
        }
      ],
      "source": [
        "with open('./iam_words/words.txt') as f:\n",
        "    contents = f.readlines()[18:22539]\n",
        "\n",
        "lines = [line.strip() for line in contents]\n",
        "lines[-1]"
      ]
    },
    {
      "cell_type": "code",
      "execution_count": null,
      "metadata": {
        "id": "XK0HMdAycpE-"
      },
      "outputs": [],
      "source": [
        "def process_image(img):\n",
        "    h, w = img.shape\n",
        "    new_h = 32\n",
        "    new_w = int(w * (new_h / h))\n",
        "    img = cv2.resize(img, (new_w, new_h))\n",
        "    h, w = img.shape\n",
        "\n",
        "    img = img.astype('float32')\n",
        "\n",
        "    if h < 32:\n",
        "        add_zeros = np.full((32-h, w), 255)\n",
        "        img = np.concatenate((img, add_zeros))\n",
        "        h, w = img.shape\n",
        "\n",
        "    if w < 128:\n",
        "        add_zeros = np.full((h, 128-w), 255)\n",
        "        img = np.concatenate((img, add_zeros), axis=1)\n",
        "        h, w = img.shape\n",
        "\n",
        "    if w > 128 or h > 32:\n",
        "        dim = (128, 32)\n",
        "        img = cv2.resize(img, dim)\n",
        "\n",
        "    img = cv2.subtract(255, img)\n",
        "\n",
        "    img = np.expand_dims(img, axis=2)\n",
        "\n",
        "    img = img / 255\n",
        "\n",
        "    return img"
      ]
    },
    {
      "cell_type": "code",
      "execution_count": null,
      "metadata": {
        "id": "uG3dJhOhc5Oa"
      },
      "outputs": [],
      "source": [
        "max_label_len = 0\n",
        "\n",
        "char_list = \"!\\\"#&'()*+,-./0123456789:;?ABCDEFGHIJKLMNOPQRSTUVWXYZabcdefghijklmnopqrstuvwxyz\"\n",
        "\n",
        "def encode_to_labels(txt):\n",
        "    dig_lst = []\n",
        "    for index, chara in enumerate(txt):\n",
        "        dig_lst.append(char_list.index(chara))\n",
        "\n",
        "    return dig_lst"
      ]
    },
    {
      "cell_type": "code",
      "execution_count": null,
      "metadata": {
        "colab": {
          "background_save": true
        },
        "id": "mJFldGuoc-TO"
      },
      "outputs": [],
      "source": [
        "for index, line in enumerate(lines):\n",
        "    splits = line.split(' ')\n",
        "    status = splits[1]\n",
        "\n",
        "    if status == 'ok':\n",
        "        word_id = splits[0]\n",
        "        word = \"\".join(splits[8:])\n",
        "\n",
        "        splits_id = word_id.split('-')\n",
        "        filepath = './iam_words/words/{}/{}-{}/{}.png'.format(splits_id[0],\n",
        "                                                  splits_id[0],\n",
        "                                                  splits_id[1],\n",
        "                                                  word_id)\n",
        "\n",
        "        img = cv2.imread(filepath, cv2.IMREAD_GRAYSCALE)\n",
        "        try:\n",
        "            img = process_image(img)\n",
        "        except:\n",
        "            continue\n",
        "\n",
        "        try:\n",
        "            label = encode_to_labels(word)\n",
        "        except:\n",
        "            continue\n",
        "\n",
        "        if index % 10 == 0:\n",
        "            valid_images.append(img)\n",
        "            valid_labels.append(label)\n",
        "            valid_input_length.append(31)\n",
        "            valid_label_length.append(len(word))\n",
        "            valid_original_text.append(word)\n",
        "        else:\n",
        "            train_images.append(img)\n",
        "            train_labels.append(label)\n",
        "            train_input_length.append(31)\n",
        "            train_label_length.append(len(word))\n",
        "            train_original_text.append(word)\n",
        "\n",
        "        if len(word) > max_label_len:\n",
        "            max_label_len = len(word)\n",
        "\n",
        "    if index >= RECORDS_COUNT:\n",
        "        break\n",
        "\n",
        "\n"
      ]
    },
    {
      "cell_type": "code",
      "execution_count": null,
      "metadata": {
        "id": "bCpr5ftwdGCm"
      },
      "outputs": [],
      "source": [
        "train_padded_label = pad_sequences(train_labels,\n",
        "                             maxlen=max_label_len,\n",
        "                             padding='post',\n",
        "                             value=len(char_list))\n",
        "\n",
        "valid_padded_label = pad_sequences(valid_labels,\n",
        "                             maxlen=max_label_len,\n",
        "                             padding='post',\n",
        "                             value=len(char_list))"
      ]
    },
    {
      "cell_type": "code",
      "execution_count": null,
      "metadata": {
        "id": "a1lbRScSfyTb"
      },
      "outputs": [],
      "source": [
        "train_images = np.asarray(train_images)\n",
        "train_input_length = np.asarray(train_input_length)\n",
        "train_label_length = np.asarray(train_label_length)\n",
        "\n",
        "valid_images = np.asarray(valid_images)\n",
        "valid_input_length = np.asarray(valid_input_length)\n",
        "valid_label_length = np.asarray(valid_label_length)"
      ]
    },
    {
      "cell_type": "code",
      "execution_count": null,
      "metadata": {
        "colab": {
          "base_uri": "https://localhost:8080/",
          "height": 35
        },
        "id": "QdbS7ITVfz9S",
        "outputId": "85bb078b-6b8d-4dd4-e856-0b03a02e8219"
      },
      "outputs": [
        {
          "data": {
            "application/vnd.google.colaboratory.intrinsic+json": {
              "type": "string"
            },
            "text/plain": [
              "'channels_last'"
            ]
          },
          "execution_count": 38,
          "metadata": {},
          "output_type": "execute_result"
        }
      ],
      "source": [
        "from tensorflow.keras import layers\n",
        "from tensorflow.keras import Model\n",
        "from tensorflow.keras import backend as tf_keras_backend\n",
        "from keras.models import Sequential\n",
        "from keras.layers import Dense, Conv2D, MaxPool2D , Flatten\n",
        "\n",
        "tf_keras_backend.set_image_data_format('channels_last')\n",
        "tf_keras_backend.image_data_format()"
      ]
    },
    {
      "cell_type": "code",
      "execution_count": null,
      "metadata": {
        "id": "XCHLM4Nsf177"
      },
      "outputs": [],
      "source": [
        "def cnn_rnn_model():\n",
        "    inputs = Input(shape=(32, 128, 1))\n",
        "\n",
        "    conv_1 = Conv2D(64, (3,3), activation='relu', padding='same')(inputs)\n",
        "    pool_1 = MaxPool2D(pool_size=(2, 2), strides=2)(conv_1)\n",
        "\n",
        "    conv_2 = Conv2D(128, (3,3), activation='relu', padding='same')(pool_1)\n",
        "    pool_2 = MaxPool2D(pool_size=(2, 2), strides=2)(conv_2)\n",
        "\n",
        "    conv_3 = Conv2D(256, (3,3), activation='relu', padding='same')(pool_2)\n",
        "    batch_norm_3 = BatchNormalization()(conv_3)\n",
        "    pool_3 = MaxPool2D(pool_size=(2, 1))(batch_norm_3)\n",
        "\n",
        "    conv_4 = Conv2D(512, (3,3), activation='relu', padding='same')(pool_3)\n",
        "    batch_norm_4 = BatchNormalization()(conv_4)\n",
        "\n",
        "    squeezed = Lambda(lambda x: tf.squeeze(x, axis=1))(batch_norm_4)\n",
        "\n",
        "    lstm_1 = LSTM(256, return_sequences=True, dropout=0.2)(squeezed)\n",
        "\n",
        "    outputs = Dense(79, activation='softmax')(lstm_1)\n",
        "\n",
        "    model_1 = Model(inputs, outputs)\n",
        "\n",
        "    return model_1, outputs, inputs"
      ]
    },
    {
      "cell_type": "code",
      "execution_count": null,
      "metadata": {
        "id": "POhZK5apf4X_"
      },
      "outputs": [],
      "source": [
        "model_1,outputs,inputs=cnn_rnn_model()"
      ]
    },
    {
      "cell_type": "code",
      "execution_count": null,
      "metadata": {
        "id": "gSzNnaTEhVvZ"
      },
      "outputs": [],
      "source": [
        "the_labels = Input(name='the_labels', shape=[max_label_len], dtype='float32')\n",
        "input_length = Input(name='input_length', shape=[1], dtype='int64')\n",
        "label_length = Input(name='label_length', shape=[1], dtype='int64')\n",
        "\n",
        "def ctc_lambda_func(args):\n",
        "    y_pred, labels, input_length, label_length = args\n",
        "    return tf.keras.backend.ctc_batch_cost(labels, y_pred, input_length, label_length)\n",
        "\n",
        "loss_out = Lambda(ctc_lambda_func, output_shape=(1,), name='ctc')([outputs, the_labels, input_length, label_length])\n",
        "\n",
        "model = Model(inputs=[inputs, the_labels, input_length, label_length], outputs=loss_out)"
      ]
    },
    {
      "cell_type": "code",
      "execution_count": null,
      "metadata": {
        "id": "b5uoZFMRhZiH"
      },
      "outputs": [],
      "source": [
        "batch_size = 5\n",
        "epochs = 25\n",
        "e = str(epochs)\n",
        "optimizer_name = 'sgd'"
      ]
    },
    {
      "cell_type": "code",
      "execution_count": null,
      "metadata": {
        "id": "ol6e_wluha6i"
      },
      "outputs": [],
      "source": [
        "model.compile(loss={'ctc': lambda y_true, y_pred: y_pred}, optimizer = optimizer_name, metrics=['accuracy'])\n",
        "\n",
        "filepath = \"{optimizer}_{records}_{epochs}_{train}_{valid}.keras\".format(optimizer=optimizer_name,records=RECORDS_COUNT,epochs=epochs,train=train_images.shape[0],valid=valid_images.shape[0])\n",
        "checkpoint = ModelCheckpoint(filepath=filepath, monitor='val_accuracy', verbose=1, save_best_only=True, mode='auto')\n",
        "callbacks_list = [checkpoint]"
      ]
    },
    {
      "cell_type": "code",
      "execution_count": null,
      "metadata": {
        "colab": {
          "base_uri": "https://localhost:8080/"
        },
        "id": "63CJcO3mhcdN",
        "outputId": "b1240d6e-a950-426b-e3cc-dfc234bf2a74"
      },
      "outputs": [
        {
          "name": "stdout",
          "output_type": "stream",
          "text": [
            "Epoch 1/25\n",
            "\u001b[1m3615/3615\u001b[0m \u001b[32m━━━━━━━━━━━━━━━━━━━━\u001b[0m\u001b[37m\u001b[0m \u001b[1m0s\u001b[0m 24ms/step - accuracy: 0.0018 - loss: 15.7096\n",
            "Epoch 1: val_accuracy improved from -inf to 0.05580, saving model to sgdo-30000r-25e-18074t-2007v.keras\n"
          ]
        },
        {
          "name": "stderr",
          "output_type": "stream",
          "text": [
            "/usr/local/lib/python3.11/dist-packages/keras/src/saving/serialization_lib.py:390: UserWarning: The object being serialized includes a `lambda`. This is unsafe. In order to reload the object, you will have to pass `safe_mode=False` to the loading function. Please avoid using `lambda` in the future, and use named Python functions instead. This is the `lambda` being serialized: model.compile(loss={'ctc': lambda y_true, y_pred: y_pred}, optimizer = optimizer_name, metrics=['accuracy'])\n",
            "\n",
            "  return {key: serialize_keras_object(value) for key, value in obj.items()}\n"
          ]
        },
        {
          "name": "stdout",
          "output_type": "stream",
          "text": [
            "\b\b\b\b\b\b\b\b\b\b\b\b\b\b\b\b\b\b\b\b\b\b\b\b\b\b\b\b\b\b\b\b\b\b\b\b\b\b\b\b\b\b\b\b\b\b\b\b\b\b\b\b\b\b\b\b\b\b\b\b\b\b\b\b\b\b\b\b\b\b\b\b\b\b\b\b\b\b\r\u001b[1m3615/3615\u001b[0m \u001b[32m━━━━━━━━━━━━━━━━━━━━\u001b[0m\u001b[37m\u001b[0m \u001b[1m101s\u001b[0m 26ms/step - accuracy: 0.0018 - loss: 15.7092 - val_accuracy: 0.0558 - val_loss: 12.0007\n",
            "Epoch 2/25\n",
            "\u001b[1m3613/3615\u001b[0m \u001b[32m━━━━━━━━━━━━━━━━━━━\u001b[0m\u001b[37m━\u001b[0m \u001b[1m0s\u001b[0m 23ms/step - accuracy: 0.0583 - loss: 11.3714\n",
            "Epoch 2: val_accuracy improved from 0.05580 to 0.11211, saving model to sgdo-30000r-25e-18074t-2007v.keras\n",
            "\u001b[1m3615/3615\u001b[0m \u001b[32m━━━━━━━━━━━━━━━━━━━━\u001b[0m\u001b[37m\u001b[0m \u001b[1m133s\u001b[0m 25ms/step - accuracy: 0.0583 - loss: 11.3706 - val_accuracy: 0.1121 - val_loss: 9.3799\n",
            "Epoch 3/25\n",
            "\u001b[1m3615/3615\u001b[0m \u001b[32m━━━━━━━━━━━━━━━━━━━━\u001b[0m\u001b[37m\u001b[0m \u001b[1m0s\u001b[0m 24ms/step - accuracy: 0.1382 - loss: 7.7877\n",
            "Epoch 3: val_accuracy improved from 0.11211 to 0.17688, saving model to sgdo-30000r-25e-18074t-2007v.keras\n",
            "\u001b[1m3615/3615\u001b[0m \u001b[32m━━━━━━━━━━━━━━━━━━━━\u001b[0m\u001b[37m\u001b[0m \u001b[1m144s\u001b[0m 25ms/step - accuracy: 0.1382 - loss: 7.7874 - val_accuracy: 0.1769 - val_loss: 5.8652\n",
            "Epoch 4/25\n",
            "\u001b[1m3615/3615\u001b[0m \u001b[32m━━━━━━━━━━━━━━━━━━━━\u001b[0m\u001b[37m\u001b[0m \u001b[1m0s\u001b[0m 23ms/step - accuracy: 0.2521 - loss: 4.7282\n",
            "Epoch 4: val_accuracy improved from 0.17688 to 0.28301, saving model to sgdo-30000r-25e-18074t-2007v.keras\n",
            "\u001b[1m3615/3615\u001b[0m \u001b[32m━━━━━━━━━━━━━━━━━━━━\u001b[0m\u001b[37m\u001b[0m \u001b[1m141s\u001b[0m 25ms/step - accuracy: 0.2521 - loss: 4.7282 - val_accuracy: 0.2830 - val_loss: 4.2945\n",
            "Epoch 5/25\n",
            "\u001b[1m3615/3615\u001b[0m \u001b[32m━━━━━━━━━━━━━━━━━━━━\u001b[0m\u001b[37m\u001b[0m \u001b[1m0s\u001b[0m 24ms/step - accuracy: 0.3323 - loss: 3.5104\n",
            "Epoch 5: val_accuracy improved from 0.28301 to 0.34180, saving model to sgdo-30000r-25e-18074t-2007v.keras\n",
            "\u001b[1m3615/3615\u001b[0m \u001b[32m━━━━━━━━━━━━━━━━━━━━\u001b[0m\u001b[37m\u001b[0m \u001b[1m96s\u001b[0m 27ms/step - accuracy: 0.3324 - loss: 3.5104 - val_accuracy: 0.3418 - val_loss: 3.3526\n",
            "Epoch 6/25\n",
            "\u001b[1m3615/3615\u001b[0m \u001b[32m━━━━━━━━━━━━━━━━━━━━\u001b[0m\u001b[37m\u001b[0m \u001b[1m0s\u001b[0m 23ms/step - accuracy: 0.3892 - loss: 2.7499\n",
            "Epoch 6: val_accuracy improved from 0.34180 to 0.39113, saving model to sgdo-30000r-25e-18074t-2007v.keras\n",
            "\u001b[1m3615/3615\u001b[0m \u001b[32m━━━━━━━━━━━━━━━━━━━━\u001b[0m\u001b[37m\u001b[0m \u001b[1m136s\u001b[0m 25ms/step - accuracy: 0.3892 - loss: 2.7499 - val_accuracy: 0.3911 - val_loss: 3.0335\n",
            "Epoch 7/25\n",
            "\u001b[1m3614/3615\u001b[0m \u001b[32m━━━━━━━━━━━━━━━━━━━\u001b[0m\u001b[37m━\u001b[0m \u001b[1m0s\u001b[0m 23ms/step - accuracy: 0.4444 - loss: 2.2128\n",
            "Epoch 7: val_accuracy improved from 0.39113 to 0.41903, saving model to sgdo-30000r-25e-18074t-2007v.keras\n",
            "\u001b[1m3615/3615\u001b[0m \u001b[32m━━━━━━━━━━━━━━━━━━━━\u001b[0m\u001b[37m\u001b[0m \u001b[1m142s\u001b[0m 25ms/step - accuracy: 0.4444 - loss: 2.2128 - val_accuracy: 0.4190 - val_loss: 2.9295\n",
            "Epoch 8/25\n",
            "\u001b[1m3614/3615\u001b[0m \u001b[32m━━━━━━━━━━━━━━━━━━━\u001b[0m\u001b[37m━\u001b[0m \u001b[1m0s\u001b[0m 24ms/step - accuracy: 0.5106 - loss: 1.7655\n",
            "Epoch 8: val_accuracy improved from 0.41903 to 0.45989, saving model to sgdo-30000r-25e-18074t-2007v.keras\n",
            "\u001b[1m3615/3615\u001b[0m \u001b[32m━━━━━━━━━━━━━━━━━━━━\u001b[0m\u001b[37m\u001b[0m \u001b[1m143s\u001b[0m 25ms/step - accuracy: 0.5106 - loss: 1.7656 - val_accuracy: 0.4599 - val_loss: 2.8202\n",
            "Epoch 9/25\n",
            "\u001b[1m3613/3615\u001b[0m \u001b[32m━━━━━━━━━━━━━━━━━━━\u001b[0m\u001b[37m━\u001b[0m \u001b[1m0s\u001b[0m 24ms/step - accuracy: 0.5559 - loss: 1.4595\n",
            "Epoch 9: val_accuracy improved from 0.45989 to 0.49278, saving model to sgdo-30000r-25e-18074t-2007v.keras\n",
            "\u001b[1m3615/3615\u001b[0m \u001b[32m━━━━━━━━━━━━━━━━━━━━\u001b[0m\u001b[37m\u001b[0m \u001b[1m141s\u001b[0m 25ms/step - accuracy: 0.5559 - loss: 1.4595 - val_accuracy: 0.4928 - val_loss: 2.5053\n",
            "Epoch 10/25\n",
            "\u001b[1m3615/3615\u001b[0m \u001b[32m━━━━━━━━━━━━━━━━━━━━\u001b[0m\u001b[37m\u001b[0m \u001b[1m0s\u001b[0m 24ms/step - accuracy: 0.6148 - loss: 1.1632\n",
            "Epoch 10: val_accuracy improved from 0.49278 to 0.51769, saving model to sgdo-30000r-25e-18074t-2007v.keras\n",
            "\u001b[1m3615/3615\u001b[0m \u001b[32m━━━━━━━━━━━━━━━━━━━━\u001b[0m\u001b[37m\u001b[0m \u001b[1m144s\u001b[0m 25ms/step - accuracy: 0.6148 - loss: 1.1632 - val_accuracy: 0.5177 - val_loss: 2.5379\n",
            "Epoch 11/25\n",
            "\u001b[1m3614/3615\u001b[0m \u001b[32m━━━━━━━━━━━━━━━━━━━\u001b[0m\u001b[37m━\u001b[0m \u001b[1m0s\u001b[0m 24ms/step - accuracy: 0.6620 - loss: 0.9687\n",
            "Epoch 11: val_accuracy improved from 0.51769 to 0.54410, saving model to sgdo-30000r-25e-18074t-2007v.keras\n",
            "\u001b[1m3615/3615\u001b[0m \u001b[32m━━━━━━━━━━━━━━━━━━━━\u001b[0m\u001b[37m\u001b[0m \u001b[1m141s\u001b[0m 25ms/step - accuracy: 0.6620 - loss: 0.9687 - val_accuracy: 0.5441 - val_loss: 2.4816\n",
            "Epoch 12/25\n",
            "\u001b[1m3614/3615\u001b[0m \u001b[32m━━━━━━━━━━━━━━━━━━━\u001b[0m\u001b[37m━\u001b[0m \u001b[1m0s\u001b[0m 24ms/step - accuracy: 0.7017 - loss: 0.7716\n",
            "Epoch 12: val_accuracy improved from 0.54410 to 0.54509, saving model to sgdo-30000r-25e-18074t-2007v.keras\n",
            "\u001b[1m3615/3615\u001b[0m \u001b[32m━━━━━━━━━━━━━━━━━━━━\u001b[0m\u001b[37m\u001b[0m \u001b[1m143s\u001b[0m 25ms/step - accuracy: 0.7017 - loss: 0.7716 - val_accuracy: 0.5451 - val_loss: 2.7219\n",
            "Epoch 13/25\n",
            "\u001b[1m3615/3615\u001b[0m \u001b[32m━━━━━━━━━━━━━━━━━━━━\u001b[0m\u001b[37m\u001b[0m \u001b[1m0s\u001b[0m 24ms/step - accuracy: 0.7507 - loss: 0.6340\n",
            "Epoch 13: val_accuracy improved from 0.54509 to 0.56203, saving model to sgdo-30000r-25e-18074t-2007v.keras\n",
            "\u001b[1m3615/3615\u001b[0m \u001b[32m━━━━━━━━━━━━━━━━━━━━\u001b[0m\u001b[37m\u001b[0m \u001b[1m141s\u001b[0m 25ms/step - accuracy: 0.7507 - loss: 0.6340 - val_accuracy: 0.5620 - val_loss: 2.5165\n",
            "Epoch 14/25\n",
            "\u001b[1m3613/3615\u001b[0m \u001b[32m━━━━━━━━━━━━━━━━━━━\u001b[0m\u001b[37m━\u001b[0m \u001b[1m0s\u001b[0m 24ms/step - accuracy: 0.7775 - loss: 0.5435\n",
            "Epoch 14: val_accuracy improved from 0.56203 to 0.57499, saving model to sgdo-30000r-25e-18074t-2007v.keras\n",
            "\u001b[1m3615/3615\u001b[0m \u001b[32m━━━━━━━━━━━━━━━━━━━━\u001b[0m\u001b[37m\u001b[0m \u001b[1m144s\u001b[0m 26ms/step - accuracy: 0.7775 - loss: 0.5435 - val_accuracy: 0.5750 - val_loss: 2.5267\n",
            "Epoch 15/25\n",
            "\u001b[1m3614/3615\u001b[0m \u001b[32m━━━━━━━━━━━━━━━━━━━\u001b[0m\u001b[37m━\u001b[0m \u001b[1m0s\u001b[0m 23ms/step - accuracy: 0.8250 - loss: 0.4078\n",
            "Epoch 15: val_accuracy improved from 0.57499 to 0.58047, saving model to sgdo-30000r-25e-18074t-2007v.keras\n",
            "\u001b[1m3615/3615\u001b[0m \u001b[32m━━━━━━━━━━━━━━━━━━━━\u001b[0m\u001b[37m\u001b[0m \u001b[1m95s\u001b[0m 26ms/step - accuracy: 0.8249 - loss: 0.4078 - val_accuracy: 0.5805 - val_loss: 2.6509\n",
            "Epoch 16/25\n",
            "\u001b[1m3613/3615\u001b[0m \u001b[32m━━━━━━━━━━━━━━━━━━━\u001b[0m\u001b[37m━\u001b[0m \u001b[1m0s\u001b[0m 24ms/step - accuracy: 0.8525 - loss: 0.3297\n",
            "Epoch 16: val_accuracy improved from 0.58047 to 0.59591, saving model to sgdo-30000r-25e-18074t-2007v.keras\n",
            "\u001b[1m3615/3615\u001b[0m \u001b[32m━━━━━━━━━━━━━━━━━━━━\u001b[0m\u001b[37m\u001b[0m \u001b[1m90s\u001b[0m 25ms/step - accuracy: 0.8524 - loss: 0.3298 - val_accuracy: 0.5959 - val_loss: 2.5520\n",
            "Epoch 17/25\n",
            "\u001b[1m3615/3615\u001b[0m \u001b[32m━━━━━━━━━━━━━━━━━━━━\u001b[0m\u001b[37m\u001b[0m \u001b[1m0s\u001b[0m 24ms/step - accuracy: 0.8711 - loss: 0.2761\n",
            "Epoch 17: val_accuracy improved from 0.59591 to 0.61236, saving model to sgdo-30000r-25e-18074t-2007v.keras\n",
            "\u001b[1m3615/3615\u001b[0m \u001b[32m━━━━━━━━━━━━━━━━━━━━\u001b[0m\u001b[37m\u001b[0m \u001b[1m143s\u001b[0m 25ms/step - accuracy: 0.8711 - loss: 0.2761 - val_accuracy: 0.6124 - val_loss: 2.7403\n",
            "Epoch 18/25\n",
            "\u001b[1m3614/3615\u001b[0m \u001b[32m━━━━━━━━━━━━━━━━━━━\u001b[0m\u001b[37m━\u001b[0m \u001b[1m0s\u001b[0m 24ms/step - accuracy: 0.8852 - loss: 0.2606\n",
            "Epoch 18: val_accuracy did not improve from 0.61236\n",
            "\u001b[1m3615/3615\u001b[0m \u001b[32m━━━━━━━━━━━━━━━━━━━━\u001b[0m\u001b[37m\u001b[0m \u001b[1m141s\u001b[0m 25ms/step - accuracy: 0.8851 - loss: 0.2607 - val_accuracy: 0.5939 - val_loss: 2.7625\n",
            "Epoch 19/25\n",
            "\u001b[1m3614/3615\u001b[0m \u001b[32m━━━━━━━━━━━━━━━━━━━\u001b[0m\u001b[37m━\u001b[0m \u001b[1m0s\u001b[0m 24ms/step - accuracy: 0.8966 - loss: 0.2334\n",
            "Epoch 19: val_accuracy improved from 0.61236 to 0.62182, saving model to sgdo-30000r-25e-18074t-2007v.keras\n",
            "\u001b[1m3615/3615\u001b[0m \u001b[32m━━━━━━━━━━━━━━━━━━━━\u001b[0m\u001b[37m\u001b[0m \u001b[1m92s\u001b[0m 25ms/step - accuracy: 0.8966 - loss: 0.2334 - val_accuracy: 0.6218 - val_loss: 2.7474\n",
            "Epoch 20/25\n",
            "\u001b[1m3615/3615\u001b[0m \u001b[32m━━━━━━━━━━━━━━━━━━━━\u001b[0m\u001b[37m\u001b[0m \u001b[1m0s\u001b[0m 23ms/step - accuracy: 0.9252 - loss: 0.1701\n",
            "Epoch 20: val_accuracy improved from 0.62182 to 0.63428, saving model to sgdo-30000r-25e-18074t-2007v.keras\n",
            "\u001b[1m3615/3615\u001b[0m \u001b[32m━━━━━━━━━━━━━━━━━━━━\u001b[0m\u001b[37m\u001b[0m \u001b[1m139s\u001b[0m 24ms/step - accuracy: 0.9252 - loss: 0.1701 - val_accuracy: 0.6343 - val_loss: 2.8177\n",
            "Epoch 21/25\n",
            "\u001b[1m3615/3615\u001b[0m \u001b[32m━━━━━━━━━━━━━━━━━━━━\u001b[0m\u001b[37m\u001b[0m \u001b[1m0s\u001b[0m 24ms/step - accuracy: 0.9291 - loss: 0.1567\n",
            "Epoch 21: val_accuracy did not improve from 0.63428\n",
            "\u001b[1m3615/3615\u001b[0m \u001b[32m━━━━━━━━━━━━━━━━━━━━\u001b[0m\u001b[37m\u001b[0m \u001b[1m144s\u001b[0m 25ms/step - accuracy: 0.9291 - loss: 0.1567 - val_accuracy: 0.5989 - val_loss: 2.9824\n",
            "Epoch 22/25\n",
            "\u001b[1m3613/3615\u001b[0m \u001b[32m━━━━━━━━━━━━━━━━━━━\u001b[0m\u001b[37m━\u001b[0m \u001b[1m0s\u001b[0m 23ms/step - accuracy: 0.9274 - loss: 0.1645\n",
            "Epoch 22: val_accuracy did not improve from 0.63428\n",
            "\u001b[1m3615/3615\u001b[0m \u001b[32m━━━━━━━━━━━━━━━━━━━━\u001b[0m\u001b[37m\u001b[0m \u001b[1m140s\u001b[0m 24ms/step - accuracy: 0.9274 - loss: 0.1645 - val_accuracy: 0.6298 - val_loss: 2.7936\n",
            "Epoch 23/25\n",
            "\u001b[1m3614/3615\u001b[0m \u001b[32m━━━━━━━━━━━━━━━━━━━\u001b[0m\u001b[37m━\u001b[0m \u001b[1m0s\u001b[0m 23ms/step - accuracy: 0.9492 - loss: 0.1153\n",
            "Epoch 23: val_accuracy did not improve from 0.63428\n",
            "\u001b[1m3615/3615\u001b[0m \u001b[32m━━━━━━━━━━━━━━━━━━━━\u001b[0m\u001b[37m\u001b[0m \u001b[1m143s\u001b[0m 25ms/step - accuracy: 0.9492 - loss: 0.1153 - val_accuracy: 0.6313 - val_loss: 2.8202\n",
            "Epoch 24/25\n",
            "\u001b[1m3615/3615\u001b[0m \u001b[32m━━━━━━━━━━━━━━━━━━━━\u001b[0m\u001b[37m\u001b[0m \u001b[1m0s\u001b[0m 23ms/step - accuracy: 0.9491 - loss: 0.1185\n",
            "Epoch 24: val_accuracy improved from 0.63428 to 0.63727, saving model to sgdo-30000r-25e-18074t-2007v.keras\n",
            "\u001b[1m3615/3615\u001b[0m \u001b[32m━━━━━━━━━━━━━━━━━━━━\u001b[0m\u001b[37m\u001b[0m \u001b[1m141s\u001b[0m 24ms/step - accuracy: 0.9491 - loss: 0.1185 - val_accuracy: 0.6373 - val_loss: 2.9005\n",
            "Epoch 25/25\n",
            "\u001b[1m3614/3615\u001b[0m \u001b[32m━━━━━━━━━━━━━━━━━━━\u001b[0m\u001b[37m━\u001b[0m \u001b[1m0s\u001b[0m 23ms/step - accuracy: 0.9599 - loss: 0.0918\n",
            "Epoch 25: val_accuracy improved from 0.63727 to 0.64076, saving model to sgdo-30000r-25e-18074t-2007v.keras\n",
            "\u001b[1m3615/3615\u001b[0m \u001b[32m━━━━━━━━━━━━━━━━━━━━\u001b[0m\u001b[37m\u001b[0m \u001b[1m143s\u001b[0m 25ms/step - accuracy: 0.9599 - loss: 0.0918 - val_accuracy: 0.6408 - val_loss: 2.9349\n"
          ]
        }
      ],
      "source": [
        "history = model.fit(x=[train_images, train_padded_label, train_input_length, train_label_length],\n",
        "                    y=np.zeros(len(train_images)),\n",
        "                    batch_size=batch_size,\n",
        "                    epochs=epochs,\n",
        "                    validation_data=([valid_images, valid_padded_label, valid_input_length, valid_label_length], [np.zeros(len(valid_images))]),\n",
        "                    verbose=1,\n",
        "                    callbacks=callbacks_list)"
      ]
    },
    {
      "cell_type": "code",
      "execution_count": null,
      "metadata": {
        "colab": {
          "base_uri": "https://localhost:8080/",
          "height": 1000
        },
        "id": "20WAnBFOwfZH",
        "outputId": "692a38fe-eb62-49fd-b009-137cc7bfc837"
      },
      "outputs": [
        {
          "name": "stdout",
          "output_type": "stream",
          "text": [
            "\u001b[1m1/1\u001b[0m \u001b[32m━━━━━━━━━━━━━━━━━━━━\u001b[0m\u001b[37m\u001b[0m \u001b[1m0s\u001b[0m 44ms/step\n",
            "original_text =   to\n",
            "predicted text = to"
          ]
        },
        {
          "data": {
            "image/png": "[encoded data removed]",
            "text/plain": [
              "<Figure size 640x480 with 1 Axes>"
            ]
          },
          "metadata": {},
          "output_type": "display_data"
        },
        {
          "name": "stdout",
          "output_type": "stream",
          "text": [
            "\n",
            "\n",
            "original_text =   Welensky\n",
            "predicted text = Wielensky"
          ]
        },
        {
          "data": {
            "image/png": "[encoded data removed]",
            "text/plain": [
              "<Figure size 640x480 with 1 Axes>"
            ]
          },
          "metadata": {},
          "output_type": "display_data"
        },
        {
          "name": "stdout",
          "output_type": "stream",
          "text": [
            "\n",
            "\n",
            "original_text =   Labour\n",
            "predicted text = Labour"
          ]
        },
        {
          "data": {
            "image/png": "[encoded data removed]",
            "text/plain": [
              "<Figure size 640x480 with 1 Axes>"
            ]
          },
          "metadata": {},
          "output_type": "display_data"
        },
        {
          "name": "stdout",
          "output_type": "stream",
          "text": [
            "\n",
            "\n",
            "original_text =   Labour\n",
            "predicted text = Labour"
          ]
        },
        {
          "data": {
            "image/png": "[encoded data removed]",
            "text/plain": [
              "<Figure size 640x480 with 1 Axes>"
            ]
          },
          "metadata": {},
          "output_type": "display_data"
        },
        {
          "name": "stdout",
          "output_type": "stream",
          "text": [
            "\n",
            "\n",
            "original_text =   of\n",
            "predicted text = of"
          ]
        },
        {
          "data": {
            "image/png": "[encoded data removed]",
            "text/plain": [
              "<Figure size 640x480 with 1 Axes>"
            ]
          },
          "metadata": {},
          "output_type": "display_data"
        },
        {
          "name": "stdout",
          "output_type": "stream",
          "text": [
            "\n",
            "\n"
          ]
        }
      ],
      "source": [
        "i=35\n",
        "j=40\n",
        "prediction = model_1.predict(valid_images[i:j])\n",
        "\n",
        "decoded = tf.keras.backend.ctc_decode(\n",
        "    prediction,\n",
        "    input_length=np.ones(prediction.shape[0]) * prediction.shape[1],\n",
        "    greedy=True)[0][0]\n",
        "\n",
        "out = tf.keras.backend.get_value(decoded)\n",
        "\n",
        "\n",
        "for _, x in enumerate(out):\n",
        "\n",
        "    print(\"original_text =  \", valid_original_text[i])\n",
        "    print(\"predicted text = \", end = '')\n",
        "    for p in x:\n",
        "        if int(p) != -1:\n",
        "            print(char_list[int(p)], end = '')\n",
        "    plt.imshow(valid_images[i].reshape(32,128), cmap=plt.cm.gray)\n",
        "    plt.show()\n",
        "    i+=1\n",
        "    print('\\n')"
      ]
    },
    {
      "cell_type": "code",
      "execution_count": null,
      "metadata": {
        "id": "dLwp37guwngM"
      },
      "outputs": [],
      "source": []
    }
  ],
  "metadata": {
    "accelerator": "GPU",
    "colab": {
      "gpuType": "T4",
      "provenance": []
    },
    "kernelspec": {
      "display_name": "Python 3",
      "name": "python3"
    },
    "language_info": {
      "name": "python"
    }
  },
  "nbformat": 4,
  "nbformat_minor": 0
}